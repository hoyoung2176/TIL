{
 "cells": [
  {
   "cell_type": "markdown",
   "metadata": {},
   "source": [
    "# 문자열 계산하기\n",
    "\n",
    "> 아래와 같이 문자열이 주어졌을 때, 바보같은 사용자를 위해 계산을 해주려고 한다.\n",
    ">\n",
    "> 이 계산기는 더하기와 빼기밖에 못한다.\n",
    ">\n",
    "> `calc(equation)`을 만들어봅시다.\n",
    "\n",
    "---\n",
    "\n",
    "예시)\n",
    "\n",
    "```python\n",
    "calc('123+2-124') #=> 1\n",
    "calc('-12+12-7979+9191') #=> 1212\n",
    "calc('+1-1+1-1+1-1+1-1+1-1+1-1+1-1+1-1+1-1+1-1+1-1+1-1+1-1+1-1+1-1+1-1') #=> 0\n",
    "```"
   ]
  },
  {
   "cell_type": "code",
   "execution_count": 62,
   "metadata": {},
   "outputs": [],
   "source": [
    "# 여기에 코드를 작성하세요\n",
    "def calc(equation):\n",
    "    for x in equation: \n",
    "        if not x.isdigit(): #숫자인지 아닌지 검사\n",
    "            equation = equation.replace(x, ' ' + x ) #공백을 만들어주고 리스트로 바꿈\n",
    "    return sum(map(int,equation.split())) #공백기준으로 자르고 리스트안의 숫자를 인트함수로 바꾸고 합한다."
   ]
  },
  {
   "cell_type": "code",
   "execution_count": null,
   "metadata": {},
   "outputs": [],
   "source": [
    "def calc(equation):\n",
    "    copy = equation\n",
    "    symbol = []               ###기호리스트\n",
    "    digit = []                ### 숫자리스트\n",
    "    for i in copy:                           ###숫자만 스플릿\n",
    "        if i.isdigit() == False:\n",
    "        symbol.append(i)\n",
    "        copy = copy.replace(i, \" \")\n",
    "\n",
    "    digit = list(map(int,copy.split()))\n",
    "\n",
    "\n",
    "    if len(digit) == len(symbol):            ### 맨앞에 기호일 경우 첫 값 수정\n",
    "        if symbol[0]=='-':\n",
    "            digit[0] = -digit[0]\n",
    "            del symbol[0]\n",
    "        else:\n",
    "            del symbol[0]\n",
    "\n",
    "    while len(symbol)>0:                    ### 기호 1개 당 숫자 2개 계산\n",
    "        if symbol[0] == '+':\n",
    "            digit[0]=digit[0]+digit[1]\n",
    "            del digit[1]\n",
    "            del symbol[0]\n",
    "        else:\n",
    "            digit[0]=digit[0]-digit[1]\n",
    "            del digit[1]\n",
    "            del symbol[0]\n",
    "         #print(digit)\n",
    "\n",
    "    return digit[0]                       ### 반환\n",
    "    return digit[0]                       ### 반환"
   ]
  },
  {
   "cell_type": "code",
   "execution_count": null,
   "metadata": {},
   "outputs": [],
   "source": []
  },
  {
   "cell_type": "code",
   "execution_count": null,
   "metadata": {},
   "outputs": [],
   "source": [
    "def calc(equation):\n",
    "    for x in equation: \n",
    "        if not x == '-':\n",
    "            equation = equation.replace(x, ' ')\n",
    "        if not x == '-:\n",
    "            equation = equation.replace(x, ' ')\n",
    "    return sum(map(int,equation.split()))\n",
    "\n",
    "#  자료구조를 고정하고 돌리기 때문에  공백이 생겨도 위치(인덱스)값이 달라지지 않는다.(메모리첨)\n",
    "# for x in 'equation': \n",
    "#     if not x == '-':\n",
    "#             equation = equation.replace(x, ' ')\n",
    "#     if not x == '-:\n",
    "#             equation = equation.replace(x, ' ')\n",
    "# return sum(map(int,equation.split()))\n",
    "# print(calc('-12+12-7979+9191'))"
   ]
  },
  {
   "cell_type": "code",
   "execution_count": 66,
   "metadata": {},
   "outputs": [],
   "source": [
    "def calc(equation):\n",
    "    equation = equation.replace('+', ' ').replace('-', ' -')\n",
    "    return sum(map(int, equation.split()))"
   ]
  },
  {
   "cell_type": "code",
   "execution_count": 67,
   "metadata": {},
   "outputs": [
    {
     "name": "stdout",
     "output_type": "stream",
     "text": [
      "1\n",
      "1212\n",
      "0\n"
     ]
    }
   ],
   "source": [
    "# 해당 코드를 통해 올바른 결과가 나오는지 확인하세요.\n",
    "print(calc('123+2-124'))\n",
    "print(calc('-12+12-7979+9191'))\n",
    "print(calc('+1-1+1-1+1-1+1-1+1-1+1-1+1-1+1-1+1-1+1-1+1-1+1-1+1-1+1-1+1-1+1-1'))"
   ]
  },
  {
   "cell_type": "markdown",
   "metadata": {},
   "source": [
    "# 시험 채점 시스템\n",
    "\n",
    "> 첫 번째 인자는 정답이 들어있는 리스트, 두 번째 인자는 사용자의 답이 들어있는 리스트입니다. 두 리스트는 비어있지 않으며 길이가 같습니다.\n",
    "\n",
    "> 정답의 경우 +4점, 오답의 경우 -1점, 공백 응답(빈 문자열)의 경우 0점입니다. 만약, 점수가 0보다 작으면 0을 return 합니다.\n",
    ">\n",
    "> 위와 같이 시험 점수를 체크하는 함수 `check_score(real_answers, my_answers)` 을 작성하세요.\n",
    "\n",
    "예시)\n",
    "\n",
    "```python\n",
    "check_score([\"a\", \"a\", \"b\", \"b\"], [\"a\", \"c\", \"b\", \"d\"]) #=> 6\n",
    "check_score([\"a\", \"a\", \"c\", \"b\"], [\"a\", \"a\", \"b\", \"\"]) #=> 7\n",
    "check_score([\"a\", \"a\", \"b\", \"c\"], [\"a\", \"a\", \"b\", \"c\"]) #=> 16\n",
    "check_score([\"b\", \"c\", \"b\", \"a\"], [\"\", \"a\", \"a\", \"c\"]) #=> 0\n",
    "```"
   ]
  },
  {
   "cell_type": "code",
   "execution_count": 52,
   "metadata": {},
   "outputs": [],
   "source": [
    "# 여기에 코드를 작성하세요.\n",
    "def check_score(real_answers, my_answers):\n",
    "    i = 0\n",
    "    for x in range(len(real_answers)):\n",
    "        if list(real_answers)[x] == list(my_answers)[x]:\n",
    "            i += 4\n",
    "        elif list(my_answers)[x] == \"\":\n",
    "            i += 0\n",
    "           \n",
    "        else:\n",
    "            i -= 1\n",
    "            if i < 0:\n",
    "                i = 0\n",
    "    return i\n"
   ]
  },
  {
   "cell_type": "code",
   "execution_count": 59,
   "metadata": {},
   "outputs": [],
   "source": [
    "def check_score(real_answers, my_answers):\n",
    "    i = 0\n",
    "    for x,y in zip(real_answers, my_answers):\n",
    "        if x == y:\n",
    "            i += 4\n",
    "        elif y == \"\":\n",
    "            i += 0\n",
    "        else:\n",
    "            i -= 1\n",
    "            if i < 0:\n",
    "                i = 0\n",
    "    return i"
   ]
  },
  {
   "cell_type": "code",
   "execution_count": 68,
   "metadata": {},
   "outputs": [],
   "source": [
    "def check_score(real_answers, my_answers):\n",
    "    #\n",
    "    Ans = [4 if x == y else\n",
    "           -1 if y else 0\n",
    "             for x, y in zip(real_answers, my_answers)]\n",
    "    if sum(Ans) < 0:\n",
    "        return 0\n",
    "    else:\n",
    "        return sum(Ans)\n"
   ]
  },
  {
   "cell_type": "code",
   "execution_count": 71,
   "metadata": {},
   "outputs": [],
   "source": [
    "def check_score(real_answers, my_answers):\n",
    "    return max(0,sum([4 if r ==m else -1 #두번째로 읽음\n",
    "                        for r, m in zip(real_answers, my_answers) if m])) #1번째까지읽음\n",
    "    #m이 False이면 왼쪽에 있는 4 if r ==m else -1,for r, m in zip(real_answers, my_answers)으로 갈수없음\n",
    "    #max 의 sum([4 if r ==m else -1,for r, m in zip(real_answers, my_answers) if m] 이 0이하면 0나옴"
   ]
  },
  {
   "cell_type": "code",
   "execution_count": 72,
   "metadata": {},
   "outputs": [
    {
     "name": "stdout",
     "output_type": "stream",
     "text": [
      "6\n",
      "7\n",
      "16\n",
      "0\n"
     ]
    }
   ],
   "source": [
    "# 해당 코드를 통해 올바른 결과가 나오는지 확인하세요.\n",
    "print(check_score([\"a\", \"a\", \"b\", \"b\"], [\"a\", \"c\", \"b\", \"d\"]))\n",
    "print(check_score([\"a\", \"a\", \"c\", \"b\"], [\"a\", \"a\", \"b\", \"\"]))\n",
    "print(check_score([\"a\", \"a\", \"b\", \"c\"], [\"a\", \"a\", \"b\", \"c\"]))\n",
    "print(check_score([\"b\", \"c\", \"b\", \"a\"], [\"\", \"a\", \"a\", \"c\"]))"
   ]
  }
 ],
 "metadata": {
  "kernelspec": {
   "display_name": "Python 3",
   "language": "python",
   "name": "python3"
  },
  "language_info": {
   "codemirror_mode": {
    "name": "ipython",
    "version": 3
   },
   "file_extension": ".py",
   "mimetype": "text/x-python",
   "name": "python",
   "nbconvert_exporter": "python",
   "pygments_lexer": "ipython3",
   "version": "3.6.7"
  },
  "toc": {
   "base_numbering": 1,
   "nav_menu": {},
   "number_sections": true,
   "sideBar": true,
   "skip_h1_title": false,
   "title_cell": "Table of Contents",
   "title_sidebar": "Contents",
   "toc_cell": false,
   "toc_position": {},
   "toc_section_display": true,
   "toc_window_display": false
  }
 },
 "nbformat": 4,
 "nbformat_minor": 2
}
