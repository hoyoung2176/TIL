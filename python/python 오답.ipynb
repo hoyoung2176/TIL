{
 "cells": [
  {
   "cell_type": "code",
   "execution_count": null,
   "metadata": {},
   "outputs": [],
   "source": [
    "python[3:8]-> honpyt\n"
   ]
  },
  {
   "cell_type": "code",
   "execution_count": 1,
   "metadata": {},
   "outputs": [
    {
     "name": "stdout",
     "output_type": "stream",
     "text": [
      "421\n"
     ]
    }
   ],
   "source": [
    "def func(c='5', *args):\n",
    "    a, c, b = args\n",
    "    return a + b + c\n",
    "print(func('3','4','1','2'))\n",
    "#처음에 c=5에 3이 들어가고\n",
    "a,c,b에 의해 4,1,2가 들어감"
   ]
  },
  {
   "cell_type": "code",
   "execution_count": null,
   "metadata": {},
   "outputs": [],
   "source": [
    "1. d1 == d2\n",
    "2. len(d1) 은, len(d2)는 0이다.\n",
    "3. id(d1) == id(d2)\n",
    "4. d1의 value  와 d2의 value는 모두 비어있는 딕셔너리이다.\n",
    "\n",
    "d1 ={ 'd': dict()}\n",
    "d2 = dict(d={})\n",
    "4번"
   ]
  },
  {
   "cell_type": "code",
   "execution_count": null,
   "metadata": {},
   "outputs": [],
   "source": [
    "옳은 것\n",
    "d = {'a':1, 'b':2}\n",
    "a1= d.update(c=3)\n",
    "a2 =a1\n",
    "\n",
    "보기중에답이없다.\n",
    "리턴값이 없으므로 None 이 반환된다."
   ]
  },
  {
   "cell_type": "code",
   "execution_count": null,
   "metadata": {},
   "outputs": [],
   "source": [
    "fruits=  {'apple': '사과', 'banana' : '바나나'}\n",
    "a = fruits.get('apple')\n",
    "b = fruits.get('cherry')\n",
    "c = fruits.get('apple')\n",
    "d = fruits.get('apple')\n",
    "\n"
   ]
  },
  {
   "cell_type": "code",
   "execution_count": null,
   "metadata": {},
   "outputs": [],
   "source": [
    "def fun(a,b=1,c=2, *args, **kargs):\n",
    "    d = sum([n*2 for n in args if n >2])\n",
    "    e = sum([v*v for k, v in kargs.items()])\n",
    "    return a+b+c+d+e\n",
    "print(fun(9,4,2,3,1,7,d=3,e=6))"
   ]
  },
  {
   "cell_type": "code",
   "execution_count": null,
   "metadata": {},
   "outputs": [],
   "source": [
    "a=9\n",
    "b=4\n",
    "c=2\n",
    "args(3,1,7)\n",
    "6+14=20\n",
    "kwargs{d:3,e:6}"
   ]
  },
  {
   "cell_type": "code",
   "execution_count": null,
   "metadata": {},
   "outputs": [],
   "source": [
    "fib(0) / fib(1) 횟수\n",
    "\n",
    "fib(4)을 피보나치 재귀함수\n",
    "fib(3)+fib(2)\n",
    "fib(2) 1 1 0\n",
    "1 0 1 1 0"
   ]
  },
  {
   "cell_type": "code",
   "execution_count": null,
   "metadata": {},
   "outputs": [],
   "source": [
    "def my_sum(a,b):\n",
    "    c = a+ b\n",
    "    print(c)\n",
    "print(my_sum(5,8))\n",
    "#함수에 리턴값없어서 0 result = my_sum(5,8)이 나옴"
   ]
  },
  {
   "cell_type": "code",
   "execution_count": null,
   "metadata": {},
   "outputs": [],
   "source": [
    "name = 'hong'\n",
    "class Person:\n",
    "    name = 'choi'\n",
    "    def greeting(self):\n",
    "        print(name) #hong을 가르킴 kim를 뽑을러면 self.name 이 여야함\n",
    "p1 = Person()\n",
    "p1.name = 'kim' # choi를 뽑을러면 없어야함\n",
    "p1.greeting()"
   ]
  },
  {
   "cell_type": "code",
   "execution_count": null,
   "metadata": {},
   "outputs": [],
   "source": [
    "class Person:\n",
    "    def __init__(self, name, age):\n",
    "        self.name = name\n",
    "        \n",
    "인스턴스작성으로 옳은것?\n",
    "p3 = Person(age = 3 , name ='kang')"
   ]
  },
  {
   "cell_type": "code",
   "execution_count": null,
   "metadata": {},
   "outputs": [],
   "source": [
    "import copy\n",
    "\n",
    "list1 = [3, 'a' , 'b']\n",
    "list2 = [1,2, list1]\n",
    "\n",
    "list3 = list1[:]\n",
    "list4 = copy.copy(list2)\n",
    "list5 = copy.deepcopy(list2)"
   ]
  },
  {
   "cell_type": "code",
   "execution_count": null,
   "metadata": {},
   "outputs": [],
   "source": [
    "틀린것\n",
    "1. list1 == list3 True\n",
    "2. list4[2][0] = 4\n",
    "    print(list2[2][0])의 결과는 ㅇ4이다.\n",
    "3. list4[2] = 5 #리스트 2번자리가 다른리스트를 카피하는게 아니라 5로 덮어씌워짐\n",
    "    print(list2[2]) 의 결과는 5이다.\n",
    "\n",
    "4. list5[2][1] =3\n",
    "    print(list2[2][1])의 결과는 'a' 다.\n",
    "\n",
    "    정답 3\n",
    "#슬라이싱과 딥카피는 새로운 리스트를 받아서 카피하고 일반카피는 카피하는 리스트를 참조하여 값을 가져오기때문에 list값이 달라짐"
   ]
  },
  {
   "cell_type": "code",
   "execution_count": 4,
   "metadata": {},
   "outputs": [
    {
     "name": "stdout",
     "output_type": "stream",
     "text": [
      "11\n"
     ]
    }
   ],
   "source": [
    "a = 1 #global\n",
    "def my_func1():\n",
    "    a = 5 #local\n",
    "    my_func2() #함수호출하지만 지역변수로 a가 할당되서\n",
    "\n",
    "def my_func2():\n",
    "    print(a, end=\"\") #global 함수 호출됨\n",
    "    \n",
    "my_func1()\n",
    "print(a)"
   ]
  },
  {
   "cell_type": "code",
   "execution_count": null,
   "metadata": {},
   "outputs": [],
   "source": [
    "LEGB 파이썬\n",
    "Local = 함수 내 정의된 지역 변수\n",
    "Enclosing function local = 함수를 내포하는 또다른 함수영역\n",
    "Global = 함수영역에 포함되지 않는 모듈영역\n",
    "Built-in = 내장 영역 #함수로 할당해버리면 원래의 내장함수로 사용할수없다, 사용하기 위해서는 del을 통해 삭제를 해야함"
   ]
  },
  {
   "cell_type": "code",
   "execution_count": 7,
   "metadata": {},
   "outputs": [
    {
     "name": "stdout",
     "output_type": "stream",
     "text": [
      "30 10 2\n",
      "30 30 2\n"
     ]
    }
   ],
   "source": [
    "a = 1                   # G\n",
    "b = 2\n",
    "def func1():\n",
    "    a = 10                     # f1 local /f2 Enclosing\n",
    "    def func2():\n",
    "        c=30                   # f2 local\n",
    "        print(c, a, b)               # L, E , G \n",
    "    func2()\n",
    "    a =30\n",
    "    func2()                    # L L G\n",
    "    \n",
    "func1()"
   ]
  },
  {
   "cell_type": "code",
   "execution_count": 9,
   "metadata": {},
   "outputs": [
    {
     "name": "stdout",
     "output_type": "stream",
     "text": [
      "inside 1\n",
      "after 3\n"
     ]
    }
   ],
   "source": [
    "a = 1\n",
    "def test():\n",
    "    global a #전역변수에 있는것을 사용하기 위해서는 이렇게 표현해야한다. 없으면 없다. 그리고 함수 내에서 사용하면 글로벌 할당된다.\n",
    "    print(\"inside\", a)\n",
    "    a = 3\n",
    "test()\n",
    "print(\"after\", a)"
   ]
  },
  {
   "cell_type": "code",
   "execution_count": 10,
   "metadata": {},
   "outputs": [
    {
     "ename": "UnboundLocalError",
     "evalue": "local variable 'a' referenced before assignment",
     "output_type": "error",
     "traceback": [
      "\u001b[1;31m---------------------------------------------------------------------------\u001b[0m",
      "\u001b[1;31mUnboundLocalError\u001b[0m                         Traceback (most recent call last)",
      "\u001b[1;32m<ipython-input-10-f3f2b5fc4d38>\u001b[0m in \u001b[0;36m<module>\u001b[1;34m\u001b[0m\n\u001b[0;32m      4\u001b[0m     \u001b[0mprint\u001b[0m\u001b[1;33m(\u001b[0m\u001b[1;34m\"inside\"\u001b[0m\u001b[1;33m,\u001b[0m \u001b[0ma\u001b[0m\u001b[1;33m)\u001b[0m\u001b[1;33m\u001b[0m\u001b[1;33m\u001b[0m\u001b[0m\n\u001b[0;32m      5\u001b[0m     \u001b[0ma\u001b[0m \u001b[1;33m=\u001b[0m \u001b[1;36m3\u001b[0m\u001b[1;33m\u001b[0m\u001b[1;33m\u001b[0m\u001b[0m\n\u001b[1;32m----> 6\u001b[1;33m \u001b[0mtest\u001b[0m\u001b[1;33m(\u001b[0m\u001b[1;33m)\u001b[0m\u001b[1;33m\u001b[0m\u001b[1;33m\u001b[0m\u001b[0m\n\u001b[0m\u001b[0;32m      7\u001b[0m \u001b[0mprint\u001b[0m\u001b[1;33m(\u001b[0m\u001b[1;34m\"after\"\u001b[0m\u001b[1;33m,\u001b[0m \u001b[0ma\u001b[0m\u001b[1;33m)\u001b[0m\u001b[1;33m\u001b[0m\u001b[1;33m\u001b[0m\u001b[0m\n",
      "\u001b[1;32m<ipython-input-10-f3f2b5fc4d38>\u001b[0m in \u001b[0;36mtest\u001b[1;34m()\u001b[0m\n\u001b[0;32m      2\u001b[0m \u001b[1;32mdef\u001b[0m \u001b[0mtest\u001b[0m\u001b[1;33m(\u001b[0m\u001b[1;33m)\u001b[0m\u001b[1;33m:\u001b[0m\u001b[1;33m\u001b[0m\u001b[1;33m\u001b[0m\u001b[0m\n\u001b[0;32m      3\u001b[0m \u001b[1;33m\u001b[0m\u001b[0m\n\u001b[1;32m----> 4\u001b[1;33m     \u001b[0mprint\u001b[0m\u001b[1;33m(\u001b[0m\u001b[1;34m\"inside\"\u001b[0m\u001b[1;33m,\u001b[0m \u001b[0ma\u001b[0m\u001b[1;33m)\u001b[0m\u001b[1;33m\u001b[0m\u001b[1;33m\u001b[0m\u001b[0m\n\u001b[0m\u001b[0;32m      5\u001b[0m     \u001b[0ma\u001b[0m \u001b[1;33m=\u001b[0m \u001b[1;36m3\u001b[0m\u001b[1;33m\u001b[0m\u001b[1;33m\u001b[0m\u001b[0m\n\u001b[0;32m      6\u001b[0m \u001b[0mtest\u001b[0m\u001b[1;33m(\u001b[0m\u001b[1;33m)\u001b[0m\u001b[1;33m\u001b[0m\u001b[1;33m\u001b[0m\u001b[0m\n",
      "\u001b[1;31mUnboundLocalError\u001b[0m: local variable 'a' referenced before assignment"
     ]
    }
   ],
   "source": [
    "a = 1\n",
    "def test():\n",
    "\n",
    "    print(\"inside\", a)\n",
    "    a = 3\n",
    "test()\n",
    "print(\"after\", a)"
   ]
  },
  {
   "cell_type": "code",
   "execution_count": 11,
   "metadata": {},
   "outputs": [
    {
     "name": "stdout",
     "output_type": "stream",
     "text": [
      "inside 1\n",
      "after 1\n"
     ]
    }
   ],
   "source": [
    "a = 1\n",
    "def test():\n",
    "    print(\"inside\", a)\n",
    "    \n",
    "test()\n",
    "print(\"after\", a)"
   ]
  },
  {
   "cell_type": "code",
   "execution_count": null,
   "metadata": {},
   "outputs": [],
   "source": [
    "a = 1\n",
    "def test():\n",
    "    object assingment\n",
    "    \n",
    "    call by value #파이썬은 call by reference, call by value 둘다 가지고있어 둘다아니다\n",
    "    call by reference"
   ]
  },
  {
   "cell_type": "code",
   "execution_count": 12,
   "metadata": {},
   "outputs": [
    {
     "data": {
      "text/plain": [
       "[[0, 0, 0, 0, 0, 0, 0, 0, 0, 0],\n",
       " [0, 0, 0, 0, 0, 0, 0, 0, 0, 0],\n",
       " [0, 0, 0, 0, 0, 0, 0, 0, 0, 0],\n",
       " [0, 0, 0, 0, 0, 0, 0, 0, 0, 0],\n",
       " [0, 0, 0, 0, 0, 0, 0, 0, 0, 0],\n",
       " [0, 0, 0, 0, 0, 0, 0, 0, 0, 0],\n",
       " [0, 0, 0, 0, 0, 0, 0, 0, 0, 0],\n",
       " [0, 0, 0, 0, 0, 0, 0, 0, 0, 0],\n",
       " [0, 0, 0, 0, 0, 0, 0, 0, 0, 0],\n",
       " [0, 0, 0, 0, 0, 0, 0, 0, 0, 0]]"
      ]
     },
     "execution_count": 12,
     "metadata": {},
     "output_type": "execute_result"
    }
   ],
   "source": []
  },
  {
   "cell_type": "code",
   "execution_count": null,
   "metadata": {},
   "outputs": [],
   "source": []
  },
  {
   "cell_type": "code",
   "execution_count": null,
   "metadata": {},
   "outputs": [],
   "source": []
  }
 ],
 "metadata": {
  "kernelspec": {
   "display_name": "Python 3",
   "language": "python",
   "name": "python3"
  },
  "language_info": {
   "codemirror_mode": {
    "name": "ipython",
    "version": 3
   },
   "file_extension": ".py",
   "mimetype": "text/x-python",
   "name": "python",
   "nbconvert_exporter": "python",
   "pygments_lexer": "ipython3",
   "version": "3.6.7"
  },
  "toc": {
   "base_numbering": 1,
   "nav_menu": {},
   "number_sections": true,
   "sideBar": true,
   "skip_h1_title": false,
   "title_cell": "Table of Contents",
   "title_sidebar": "Contents",
   "toc_cell": false,
   "toc_position": {},
   "toc_section_display": true,
   "toc_window_display": false
  }
 },
 "nbformat": 4,
 "nbformat_minor": 2
}
